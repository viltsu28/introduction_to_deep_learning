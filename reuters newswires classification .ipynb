{
 "cells": [
  {
   "cell_type": "code",
   "execution_count": 66,
   "metadata": {},
   "outputs": [],
   "source": [
    "import keras\n",
    "import numpy as np\n",
    "import pandas as pd\n",
    "from keras.datasets import reuters\n",
    "from keras import preprocessing\n",
    "from keras.models import Sequential\n",
    "from keras.layers import Flatten, Dense, Embedding, LSTM\n",
    "from keras.layers import Embedding\n",
    "import matplotlib.pyplot as plt\n",
    "\n",
    "wordNum = 10000\n",
    "maxlen = 30\n",
    "eDim = 256\n",
    "\n",
    "# eliminate the top 20 most common words because why not\n",
    "(train_data, train_labels), (test_data, test_labels) = reuters.load_data(num_words=wordNum, skip_top=20)\n"
   ]
  },
  {
   "cell_type": "code",
   "execution_count": 67,
   "metadata": {},
   "outputs": [],
   "source": [
    "# Preprocess text and label categorizing\n",
    "\n",
    "x_train = preprocessing.sequence.pad_sequences(train_data, maxlen=maxlen)\n",
    "x_test = preprocessing.sequence.pad_sequences(test_data, maxlen=maxlen)\n",
    "y_train = keras.utils.to_categorical(train_labels, num_classes=46)\n",
    "y_test = keras.utils.to_categorical(test_labels, num_classes=46)"
   ]
  },
  {
   "cell_type": "code",
   "execution_count": 68,
   "metadata": {},
   "outputs": [
    {
     "name": "stdout",
     "output_type": "stream",
     "text": [
      "_________________________________________________________________\n",
      "Layer (type)                 Output Shape              Param #   \n",
      "=================================================================\n",
      "embedding_15 (Embedding)     (None, 30, 256)           2560000   \n",
      "_________________________________________________________________\n",
      "flatten_9 (Flatten)          (None, 7680)              0         \n",
      "_________________________________________________________________\n",
      "dense_21 (Dense)             (None, 64)                491584    \n",
      "_________________________________________________________________\n",
      "dense_22 (Dense)             (None, 46)                2990      \n",
      "=================================================================\n",
      "Total params: 3,054,574\n",
      "Trainable params: 3,054,574\n",
      "Non-trainable params: 0\n",
      "_________________________________________________________________\n"
     ]
    }
   ],
   "source": [
    "# Building the model with Embedding layer\n",
    "\n",
    "model = Sequential()\n",
    "model.add(Embedding(wordNum, eDim, input_length=maxlen))\n",
    "model.add(Flatten())\n",
    "model.add(Dense(64, activation = 'relu'))\n",
    "model.add(Dense(46, activation = 'softmax'))\n",
    "\n",
    "model.compile(optimizer = 'rmsprop',\n",
    "             loss = 'categorical_crossentropy',\n",
    "             metrics = ['accuracy'])\n",
    "\n",
    "model.summary()"
   ]
  },
  {
   "cell_type": "code",
   "execution_count": 69,
   "metadata": {},
   "outputs": [
    {
     "name": "stdout",
     "output_type": "stream",
     "text": [
      "Train on 7185 samples, validate on 1797 samples\n",
      "Epoch 1/10\n",
      "7185/7185 [==============================] - 12s 2ms/step - loss: 1.9754 - acc: 0.4870 - val_loss: 1.7150 - val_acc: 0.5582\n",
      "Epoch 2/10\n",
      "7185/7185 [==============================] - 11s 2ms/step - loss: 1.3498 - acc: 0.6665 - val_loss: 1.5751 - val_acc: 0.6071\n",
      "Epoch 3/10\n",
      "7185/7185 [==============================] - 12s 2ms/step - loss: 0.7934 - acc: 0.8216 - val_loss: 1.6035 - val_acc: 0.6149\n",
      "Epoch 4/10\n",
      "7185/7185 [==============================] - 12s 2ms/step - loss: 0.3997 - acc: 0.9182 - val_loss: 1.7449 - val_acc: 0.5993\n",
      "Epoch 5/10\n",
      "7185/7185 [==============================] - 12s 2ms/step - loss: 0.2229 - acc: 0.9528 - val_loss: 1.8838 - val_acc: 0.6016\n",
      "Epoch 6/10\n",
      "7185/7185 [==============================] - 13s 2ms/step - loss: 0.1714 - acc: 0.9595 - val_loss: 1.9887 - val_acc: 0.5899\n",
      "Epoch 7/10\n",
      "7185/7185 [==============================] - 12s 2ms/step - loss: 0.1531 - acc: 0.9581 - val_loss: 2.0008 - val_acc: 0.6021\n",
      "Epoch 8/10\n",
      "7185/7185 [==============================] - 12s 2ms/step - loss: 0.1431 - acc: 0.9599 - val_loss: 2.0148 - val_acc: 0.6021\n",
      "Epoch 9/10\n",
      "7185/7185 [==============================] - 12s 2ms/step - loss: 0.1282 - acc: 0.9588 - val_loss: 2.1481 - val_acc: 0.5988\n",
      "Epoch 10/10\n",
      "7185/7185 [==============================] - 12s 2ms/step - loss: 0.1212 - acc: 0.9612 - val_loss: 2.2659 - val_acc: 0.5899\n"
     ]
    }
   ],
   "source": [
    "# Training the model\n",
    "\n",
    "history = model.fit(x_train, y_train,\n",
    "                    epochs=10,\n",
    "                    batch_size=32,\n",
    "                    validation_split=0.2,\n",
    "                    shuffle=True)"
   ]
  },
  {
   "cell_type": "code",
   "execution_count": 70,
   "metadata": {},
   "outputs": [
    {
     "data": {
      "image/png": "[encoded data removed]",
      "text/plain": [
       "<matplotlib.figure.Figure at 0x1de94365588>"
      ]
     },
     "metadata": {},
     "output_type": "display_data"
    },
    {
     "data": {
      "image/png": "[encoded data removed]",
      "text/plain": [
       "<matplotlib.figure.Figure at 0x1de94332908>"
      ]
     },
     "metadata": {},
     "output_type": "display_data"
    }
   ],
   "source": [
    "# Validation and evaluation\n",
    "\n",
    "acc = history.history['acc']\n",
    "val_acc = history.history['val_acc']\n",
    "loss = history.history['loss']\n",
    "val_loss = history.history['val_loss']\n",
    "\n",
    "epochs = range(1, len(acc) + 1)\n",
    "\n",
    "plt.plot(epochs, acc, 'bo', label='Training acc')\n",
    "plt.plot(epochs, val_acc, 'b', label='Validation acc')\n",
    "plt.title('Training and validation accuracy')\n",
    "plt.legend()\n",
    "\n",
    "plt.figure()\n",
    "\n",
    "plt.plot(epochs, loss, 'bo', label='Training loss')\n",
    "plt.plot(epochs, val_loss, 'b', label='Validation loss')\n",
    "plt.title('Training and validation loss')\n",
    "plt.legend()\n",
    "\n",
    "plt.show()"
   ]
  },
  {
   "cell_type": "code",
   "execution_count": 71,
   "metadata": {},
   "outputs": [
    {
     "name": "stdout",
     "output_type": "stream",
     "text": [
      "2246/2246 [==============================] - 0s 110us/step\n"
     ]
    },
    {
     "data": {
      "text/plain": [
       "[2.2854518697183259, 0.59082813891362418]"
      ]
     },
     "execution_count": 71,
     "metadata": {},
     "output_type": "execute_result"
    }
   ],
   "source": [
    "model.evaluate(x_test, y_test)"
   ]
  },
  {
   "cell_type": "markdown",
   "metadata": {},
   "source": [
    "Overfits a lot...\n",
    "60% accuracy"
   ]
  },
  {
   "cell_type": "markdown",
   "metadata": {},
   "source": [
    "# Add RNN"
   ]
  },
  {
   "cell_type": "code",
   "execution_count": 74,
   "metadata": {},
   "outputs": [
    {
     "name": "stdout",
     "output_type": "stream",
     "text": [
      "_________________________________________________________________\n",
      "Layer (type)                 Output Shape              Param #   \n",
      "=================================================================\n",
      "embedding_17 (Embedding)     (None, 30, 256)           2560000   \n",
      "_________________________________________________________________\n",
      "lstm_4 (LSTM)                (None, 64)                82176     \n",
      "_________________________________________________________________\n",
      "dense_23 (Dense)             (None, 46)                2990      \n",
      "=================================================================\n",
      "Total params: 2,645,166\n",
      "Trainable params: 2,645,166\n",
      "Non-trainable params: 0\n",
      "_________________________________________________________________\n"
     ]
    }
   ],
   "source": [
    "# Model with LSTM\n",
    "\n",
    "model2 = Sequential()\n",
    "model2.add(Embedding(wordNum, eDim, input_length=maxlen))\n",
    "model2.add(LSTM(64, dropout=0.2, recurrent_dropout=0.2,))\n",
    "model2.add(Dense(46, activation = 'softmax'))\n",
    "\n",
    "model2.compile(optimizer = 'rmsprop',\n",
    "             loss = 'categorical_crossentropy',\n",
    "             metrics = ['accuracy'])\n",
    "\n",
    "model2.summary()"
   ]
  },
  {
   "cell_type": "code",
   "execution_count": 75,
   "metadata": {},
   "outputs": [
    {
     "name": "stdout",
     "output_type": "stream",
     "text": [
      "Train on 7185 samples, validate on 1797 samples\n",
      "Epoch 1/20\n",
      "7185/7185 [==============================] - 17s 2ms/step - loss: 2.1759 - acc: 0.4148 - val_loss: 1.8659 - val_acc: 0.4741\n",
      "Epoch 2/20\n",
      "7185/7185 [==============================] - 15s 2ms/step - loss: 1.7807 - acc: 0.5222 - val_loss: 1.7574 - val_acc: 0.5270\n",
      "Epoch 3/20\n",
      "7185/7185 [==============================] - 15s 2ms/step - loss: 1.5770 - acc: 0.5801 - val_loss: 1.6500 - val_acc: 0.5732\n",
      "Epoch 4/20\n",
      "7185/7185 [==============================] - 15s 2ms/step - loss: 1.3943 - acc: 0.6267 - val_loss: 1.5611 - val_acc: 0.6055\n",
      "Epoch 5/20\n",
      "7185/7185 [==============================] - 15s 2ms/step - loss: 1.2354 - acc: 0.6745 - val_loss: 1.5198 - val_acc: 0.6227\n",
      "Epoch 6/20\n",
      "7185/7185 [==============================] - 15s 2ms/step - loss: 1.0988 - acc: 0.7091 - val_loss: 1.5537 - val_acc: 0.6327\n",
      "Epoch 7/20\n",
      "7185/7185 [==============================] - 15s 2ms/step - loss: 0.9765 - acc: 0.7431 - val_loss: 1.5031 - val_acc: 0.6361\n",
      "Epoch 8/20\n",
      "7185/7185 [==============================] - 15s 2ms/step - loss: 0.8678 - acc: 0.7777 - val_loss: 1.5363 - val_acc: 0.6316\n",
      "Epoch 9/20\n",
      "7185/7185 [==============================] - 16s 2ms/step - loss: 0.7712 - acc: 0.8067 - val_loss: 1.5124 - val_acc: 0.6555\n",
      "Epoch 10/20\n",
      "7185/7185 [==============================] - 15s 2ms/step - loss: 0.6761 - acc: 0.8319 - val_loss: 1.5110 - val_acc: 0.6539\n",
      "Epoch 11/20\n",
      "7185/7185 [==============================] - 16s 2ms/step - loss: 0.6056 - acc: 0.8508 - val_loss: 1.5435 - val_acc: 0.6600\n",
      "Epoch 12/20\n",
      "7185/7185 [==============================] - 16s 2ms/step - loss: 0.5327 - acc: 0.8727 - val_loss: 1.5488 - val_acc: 0.6505\n",
      "Epoch 13/20\n",
      "7185/7185 [==============================] - 16s 2ms/step - loss: 0.4780 - acc: 0.8866 - val_loss: 1.5679 - val_acc: 0.6611\n",
      "Epoch 14/20\n",
      "7185/7185 [==============================] - 16s 2ms/step - loss: 0.4280 - acc: 0.8990 - val_loss: 1.5737 - val_acc: 0.6594\n",
      "Epoch 15/20\n",
      "7185/7185 [==============================] - 16s 2ms/step - loss: 0.3778 - acc: 0.9143 - val_loss: 1.5952 - val_acc: 0.6694\n",
      "Epoch 16/20\n",
      "7185/7185 [==============================] - 17s 2ms/step - loss: 0.3384 - acc: 0.9219 - val_loss: 1.6125 - val_acc: 0.6605\n",
      "Epoch 17/20\n",
      "7185/7185 [==============================] - 16s 2ms/step - loss: 0.2990 - acc: 0.9287 - val_loss: 1.6466 - val_acc: 0.6617\n",
      "Epoch 18/20\n",
      "7185/7185 [==============================] - 16s 2ms/step - loss: 0.2628 - acc: 0.9395 - val_loss: 1.6884 - val_acc: 0.6578\n",
      "Epoch 19/20\n",
      "7185/7185 [==============================] - 16s 2ms/step - loss: 0.2411 - acc: 0.9425 - val_loss: 1.6908 - val_acc: 0.6617\n",
      "Epoch 20/20\n",
      "7185/7185 [==============================] - 17s 2ms/step - loss: 0.2186 - acc: 0.9460 - val_loss: 1.7158 - val_acc: 0.6611\n"
     ]
    }
   ],
   "source": [
    "# Training the model\n",
    "\n",
    "# Twice as many epochs because of the dropouts\n",
    "h = model2.fit(x_train, y_train,\n",
    "                    epochs=20,\n",
    "                    batch_size=32,\n",
    "                    validation_split=0.2,\n",
    "                    shuffle=True)"
   ]
  },
  {
   "cell_type": "code",
   "execution_count": 76,
   "metadata": {},
   "outputs": [
    {
     "data": {
      "image/png": "[encoded data removed]",
      "text/plain": [
       "<matplotlib.figure.Figure at 0x1de859d0b70>"
      ]
     },
     "metadata": {},
     "output_type": "display_data"
    },
    {
     "data": {
      "image/png": "[encoded data removed]",
      "text/plain": [
       "<matplotlib.figure.Figure at 0x1de9ce59048>"
      ]
     },
     "metadata": {},
     "output_type": "display_data"
    }
   ],
   "source": [
    "# Validation and evaluation\n",
    "\n",
    "acc = h.history['acc']\n",
    "val_acc = h.history['val_acc']\n",
    "loss = h.history['loss']\n",
    "val_loss = h.history['val_loss']\n",
    "\n",
    "epochs = range(1, len(acc) + 1)\n",
    "\n",
    "plt.plot(epochs, acc, 'bo', label='Training acc')\n",
    "plt.plot(epochs, val_acc, 'b', label='Validation acc')\n",
    "plt.title('Training and validation accuracy')\n",
    "plt.legend()\n",
    "\n",
    "plt.figure()\n",
    "\n",
    "plt.plot(epochs, loss, 'bo', label='Training loss')\n",
    "plt.plot(epochs, val_loss, 'b', label='Validation loss')\n",
    "plt.title('Training and validation loss')\n",
    "plt.legend()\n",
    "\n",
    "plt.show()"
   ]
  },
  {
   "cell_type": "code",
   "execution_count": 77,
   "metadata": {},
   "outputs": [
    {
     "name": "stdout",
     "output_type": "stream",
     "text": [
      "2246/2246 [==============================] - 1s 242us/step\n"
     ]
    },
    {
     "data": {
      "text/plain": [
       "[1.8622956713288359, 0.63312555657150693]"
      ]
     },
     "execution_count": 77,
     "metadata": {},
     "output_type": "execute_result"
    }
   ],
   "source": [
    "model2.evaluate(x_test, y_test)"
   ]
  },
  {
   "cell_type": "markdown",
   "metadata": {},
   "source": [
    "I got 13% better results with recurrent network. Also adding dropouts helped little bit with the overfitting issue.\n",
    "Recurrent networks seemed to work better in this kind of problem compared to dense network."
   ]
  },
  {
   "cell_type": "code",
   "execution_count": null,
   "metadata": {
    "collapsed": true
   },
   "outputs": [],
   "source": []
  }
 ],
 "metadata": {
  "kernelspec": {
   "display_name": "Python 3",
   "language": "python",
   "name": "python3"
  },
  "language_info": {
   "codemirror_mode": {
    "name": "ipython",
    "version": 3
   },
   "file_extension": ".py",
   "mimetype": "text/x-python",
   "name": "python",
   "nbconvert_exporter": "python",
   "pygments_lexer": "ipython3",
   "version": "3.6.3"
  }
 },
 "nbformat": 4,
 "nbformat_minor": 2
}
