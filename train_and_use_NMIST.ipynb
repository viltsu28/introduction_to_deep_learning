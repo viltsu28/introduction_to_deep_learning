{
 "cells": [
  {
   "cell_type": "markdown",
   "metadata": {},
   "source": [
    "# Session 2. Exercise: train and use NMIST\n",
    "# Ville Seeste 1503540"
   ]
  },
  {
   "cell_type": "code",
   "execution_count": 112,
   "metadata": {
    "collapsed": true
   },
   "outputs": [],
   "source": [
    "import numpy as np\n",
    "import keras\n",
    "import matplotlib.pyplot as plt\n",
    "import keras.preprocessing.image as kimage"
   ]
  },
  {
   "cell_type": "code",
   "execution_count": 113,
   "metadata": {
    "scrolled": true
   },
   "outputs": [
    {
     "data": {
      "image/png": "[encoded data removed]",
      "text/plain": [
       "<matplotlib.figure.Figure at 0x22644a9c7f0>"
      ]
     },
     "metadata": {},
     "output_type": "display_data"
    },
    {
     "data": {
      "image/png": "[encoded data removed]",
      "text/plain": [
       "<matplotlib.figure.Figure at 0x22644a2b828>"
      ]
     },
     "metadata": {},
     "output_type": "display_data"
    },
    {
     "name": "stdout",
     "output_type": "stream",
     "text": [
      "[[ 1.  0.  0.  0.  0.  0.  0.  0.  0.  0.]\n",
      " [ 0.  1.  0.  0.  0.  0.  0.  0.  0.  0.]\n",
      " [ 0.  0.  1.  0.  0.  0.  0.  0.  0.  0.]\n",
      " [ 0.  0.  0.  1.  0.  0.  0.  0.  0.  0.]\n",
      " [ 0.  0.  0.  0.  1.  0.  0.  0.  0.  0.]\n",
      " [ 0.  0.  0.  0.  0.  1.  0.  0.  0.  0.]\n",
      " [ 0.  0.  0.  0.  0.  0.  1.  0.  0.  0.]\n",
      " [ 0.  0.  0.  0.  0.  0.  0.  1.  0.  0.]\n",
      " [ 0.  0.  0.  0.  0.  0.  0.  0.  1.  0.]\n",
      " [ 0.  0.  0.  0.  0.  0.  0.  0.  0.  1.]]\n",
      "[[ 1.  0.  0.  0.  0.  0.  0.  0.  0.  0.]\n",
      " [ 0.  1.  0.  0.  0.  0.  0.  0.  0.  0.]\n",
      " [ 0.  0.  1.  0.  0.  0.  0.  0.  0.  0.]\n",
      " [ 0.  0.  0.  1.  0.  0.  0.  0.  0.  0.]\n",
      " [ 0.  0.  0.  0.  1.  0.  0.  0.  0.  0.]\n",
      " [ 0.  0.  0.  0.  0.  1.  0.  0.  0.  0.]\n",
      " [ 0.  0.  0.  0.  0.  0.  1.  0.  0.  0.]\n",
      " [ 0.  0.  0.  0.  0.  0.  0.  1.  0.  0.]\n",
      " [ 0.  0.  0.  0.  0.  0.  0.  0.  1.  0.]\n",
      " [ 0.  0.  0.  0.  0.  0.  0.  0.  0.  1.]\n",
      " [ 1.  0.  0.  0.  0.  0.  0.  0.  0.  0.]\n",
      " [ 0.  1.  0.  0.  0.  0.  0.  0.  0.  0.]\n",
      " [ 0.  0.  1.  0.  0.  0.  0.  0.  0.  0.]\n",
      " [ 0.  0.  0.  1.  0.  0.  0.  0.  0.  0.]\n",
      " [ 0.  0.  0.  0.  1.  0.  0.  0.  0.  0.]\n",
      " [ 0.  0.  0.  0.  0.  1.  0.  0.  0.  0.]\n",
      " [ 0.  0.  0.  0.  0.  0.  1.  0.  0.  0.]\n",
      " [ 0.  0.  0.  0.  0.  0.  0.  1.  0.  0.]\n",
      " [ 0.  0.  0.  0.  0.  0.  0.  0.  1.  0.]\n",
      " [ 0.  0.  0.  0.  0.  0.  0.  0.  0.  1.]\n",
      " [ 1.  0.  0.  0.  0.  0.  0.  0.  0.  0.]\n",
      " [ 0.  1.  0.  0.  0.  0.  0.  0.  0.  0.]\n",
      " [ 0.  0.  1.  0.  0.  0.  0.  0.  0.  0.]\n",
      " [ 0.  0.  0.  1.  0.  0.  0.  0.  0.  0.]\n",
      " [ 0.  0.  0.  0.  1.  0.  0.  0.  0.  0.]\n",
      " [ 0.  0.  0.  0.  0.  1.  0.  0.  0.  0.]\n",
      " [ 0.  0.  0.  0.  0.  0.  1.  0.  0.  0.]\n",
      " [ 0.  0.  0.  0.  0.  0.  0.  1.  0.  0.]\n",
      " [ 0.  0.  0.  0.  0.  0.  0.  0.  1.  0.]\n",
      " [ 0.  0.  0.  0.  0.  0.  0.  0.  0.  1.]]\n"
     ]
    }
   ],
   "source": [
    "y_train = np.empty((30,))\n",
    "x_train = np.empty((30,28*28))\n",
    "\n",
    "# shape images and add to x_train\n",
    "for i in range(1,31):\n",
    "    num = format(i, '02d')\n",
    "    filename = 'digit_pictures/train_images/number_' + str(num) + '.jpg'\n",
    "    pic = kimage.load_img(filename, grayscale=True, target_size=(28,28))\n",
    "    pic = np.reshape(pic,(-1, 28 * 28)) / 255.0\n",
    "    x_train[i-1] = pic\n",
    "    \n",
    "# add labels to y_train and categorize them\n",
    "i = 0\n",
    "ind = 0\n",
    "while i < 3:\n",
    "    y = 0\n",
    "    while y < 10:\n",
    "        y_train[ind] = y\n",
    "        ind += 1\n",
    "        y += 1\n",
    "    i += 1\n",
    "y_train = keras.utils.to_categorical(y_train)\n",
    "\n",
    "\n",
    "\n",
    "# Same thing for test data\n",
    "x_test = np.empty((10,28*28))\n",
    "y_test = np.empty((10,))\n",
    "\n",
    "# shape images and add to x_test\n",
    "for i in range(1,11):\n",
    "    num = format(i, '02d')\n",
    "    filename = 'digit_pictures/test_images/number_' + str(num) + '.jpg'\n",
    "    pic = kimage.load_img(filename, grayscale=True, target_size=(28,28))\n",
    "    pic = np.reshape(pic,(-1, 28 * 28)) / 255.0\n",
    "    x_test[i-1] = pic\n",
    "    \n",
    "# add labels to y_test and categorize them\n",
    "y = 0\n",
    "while y < 10:\n",
    "    y_test[y] = y\n",
    "    y += 1\n",
    "y_test = keras.utils.to_categorical(y_test)\n",
    "\n",
    "# Test that these work\n",
    "\n",
    "# print number\n",
    "plt.imshow(np.reshape(x_train[3],(28,28)), cmap=plt.cm.binary)\n",
    "plt.show()\n",
    "plt.imshow(np.reshape(x_test[3],(28,28)), cmap=plt.cm.binary)\n",
    "plt.show()\n",
    "print(y_test)\n",
    "print(y_train)\n"
   ]
  },
  {
   "cell_type": "code",
   "execution_count": 114,
   "metadata": {},
   "outputs": [
    {
     "name": "stdout",
     "output_type": "stream",
     "text": [
      "_________________________________________________________________\n",
      "Layer (type)                 Output Shape              Param #   \n",
      "=================================================================\n",
      "dense_11 (Dense)             (None, 10)                7850      \n",
      "=================================================================\n",
      "Total params: 7,850\n",
      "Trainable params: 7,850\n",
      "Non-trainable params: 0\n",
      "_________________________________________________________________\n"
     ]
    }
   ],
   "source": [
    "model = keras.models.Sequential()\n",
    "model.add(keras.layers.Dense(10, input_shape=(28 * 28,), activation='softmax'))\n",
    "model.compile(optimizer='sgd', loss='categorical_crossentropy', metrics=['acc'])\n",
    "\n",
    "model.summary()"
   ]
  },
  {
   "cell_type": "code",
   "execution_count": 115,
   "metadata": {},
   "outputs": [
    {
     "name": "stdout",
     "output_type": "stream",
     "text": [
      "Train on 30 samples, validate on 10 samples\n",
      "Epoch 1/50\n",
      "30/30 [==============================] - 0s 9ms/step - loss: 2.5610 - acc: 0.0667 - val_loss: 2.4728 - val_acc: 0.1000\n",
      "Epoch 2/50\n",
      "30/30 [==============================] - 0s 301us/step - loss: 2.4209 - acc: 0.1333 - val_loss: 2.2694 - val_acc: 0.1000\n",
      "Epoch 3/50\n",
      "30/30 [==============================] - 0s 234us/step - loss: 2.3725 - acc: 0.1333 - val_loss: 2.1980 - val_acc: 0.1000\n",
      "Epoch 4/50\n",
      "30/30 [==============================] - 0s 301us/step - loss: 2.3440 - acc: 0.1333 - val_loss: 2.1754 - val_acc: 0.1000\n",
      "Epoch 5/50\n",
      "30/30 [==============================] - 0s 300us/step - loss: 2.3167 - acc: 0.1000 - val_loss: 2.1670 - val_acc: 0.2000\n",
      "Epoch 6/50\n",
      "30/30 [==============================] - 0s 234us/step - loss: 2.3265 - acc: 0.0667 - val_loss: 2.1540 - val_acc: 0.2000\n",
      "Epoch 7/50\n",
      "30/30 [==============================] - 0s 384us/step - loss: 2.2918 - acc: 0.1333 - val_loss: 2.1388 - val_acc: 0.2000\n",
      "Epoch 8/50\n",
      "30/30 [==============================] - 0s 318us/step - loss: 2.2960 - acc: 0.1333 - val_loss: 2.1268 - val_acc: 0.2000\n",
      "Epoch 9/50\n",
      "30/30 [==============================] - 0s 317us/step - loss: 2.2617 - acc: 0.1000 - val_loss: 2.1303 - val_acc: 0.2000\n",
      "Epoch 10/50\n",
      "30/30 [==============================] - 0s 317us/step - loss: 2.2669 - acc: 0.0667 - val_loss: 2.1225 - val_acc: 0.2000\n",
      "Epoch 11/50\n",
      "30/30 [==============================] - 0s 317us/step - loss: 2.2380 - acc: 0.1333 - val_loss: 2.1398 - val_acc: 0.2000\n",
      "Epoch 12/50\n",
      "30/30 [==============================] - 0s 217us/step - loss: 2.2300 - acc: 0.1000 - val_loss: 2.1277 - val_acc: 0.1000\n",
      "Epoch 13/50\n",
      "30/30 [==============================] - 0s 351us/step - loss: 2.1785 - acc: 0.2333 - val_loss: 2.1162 - val_acc: 0.1000\n",
      "Epoch 14/50\n",
      "30/30 [==============================] - 0s 217us/step - loss: 2.1719 - acc: 0.2000 - val_loss: 2.1283 - val_acc: 0.1000\n",
      "Epoch 15/50\n",
      "30/30 [==============================] - 0s 351us/step - loss: 2.1414 - acc: 0.2333 - val_loss: 2.1062 - val_acc: 0.1000\n",
      "Epoch 16/50\n",
      "30/30 [==============================] - 0s 384us/step - loss: 2.1179 - acc: 0.3333 - val_loss: 2.1007 - val_acc: 0.1000\n",
      "Epoch 17/50\n",
      "30/30 [==============================] - 0s 201us/step - loss: 2.1348 - acc: 0.2000 - val_loss: 2.0986 - val_acc: 0.1000\n",
      "Epoch 18/50\n",
      "30/30 [==============================] - 0s 384us/step - loss: 2.1010 - acc: 0.3000 - val_loss: 2.0844 - val_acc: 0.2000\n",
      "Epoch 19/50\n",
      "30/30 [==============================] - 0s 267us/step - loss: 2.0674 - acc: 0.4000 - val_loss: 2.0762 - val_acc: 0.2000\n",
      "Epoch 20/50\n",
      "30/30 [==============================] - 0s 301us/step - loss: 2.0963 - acc: 0.2333 - val_loss: 2.0769 - val_acc: 0.1000\n",
      "Epoch 21/50\n",
      "30/30 [==============================] - 0s 384us/step - loss: 2.0652 - acc: 0.3000 - val_loss: 2.0565 - val_acc: 0.1000\n",
      "Epoch 22/50\n",
      "30/30 [==============================] - 0s 301us/step - loss: 2.0337 - acc: 0.4000 - val_loss: 2.0537 - val_acc: 0.2000\n",
      "Epoch 23/50\n",
      "30/30 [==============================] - 0s 351us/step - loss: 2.0019 - acc: 0.4000 - val_loss: 2.0651 - val_acc: 0.2000\n",
      "Epoch 24/50\n",
      "30/30 [==============================] - 0s 250us/step - loss: 1.9768 - acc: 0.4333 - val_loss: 2.0496 - val_acc: 0.1000\n",
      "Epoch 25/50\n",
      "30/30 [==============================] - 0s 351us/step - loss: 1.9685 - acc: 0.4000 - val_loss: 2.0388 - val_acc: 0.1000\n",
      "Epoch 26/50\n",
      "30/30 [==============================] - 0s 201us/step - loss: 1.9811 - acc: 0.4333 - val_loss: 2.0382 - val_acc: 0.2000\n",
      "Epoch 27/50\n",
      "30/30 [==============================] - 0s 318us/step - loss: 1.9356 - acc: 0.5333 - val_loss: 2.0291 - val_acc: 0.2000\n",
      "Epoch 28/50\n",
      "30/30 [==============================] - 0s 200us/step - loss: 1.9111 - acc: 0.5667 - val_loss: 2.0257 - val_acc: 0.1000\n",
      "Epoch 29/50\n",
      "30/30 [==============================] - 0s 351us/step - loss: 1.9265 - acc: 0.4667 - val_loss: 2.0291 - val_acc: 0.1000\n",
      "Epoch 30/50\n",
      "30/30 [==============================] - 0s 267us/step - loss: 1.8992 - acc: 0.6000 - val_loss: 2.0242 - val_acc: 0.3000\n",
      "Epoch 31/50\n",
      "30/30 [==============================] - 0s 318us/step - loss: 1.9178 - acc: 0.7000 - val_loss: 2.0205 - val_acc: 0.2000\n",
      "Epoch 32/50\n",
      "30/30 [==============================] - 0s 251us/step - loss: 1.8626 - acc: 0.5667 - val_loss: 2.0124 - val_acc: 0.1000\n",
      "Epoch 33/50\n",
      "30/30 [==============================] - 0s 284us/step - loss: 1.8838 - acc: 0.6333 - val_loss: 1.9982 - val_acc: 0.1000\n",
      "Epoch 34/50\n",
      "30/30 [==============================] - 0s 335us/step - loss: 1.8609 - acc: 0.5667 - val_loss: 2.0120 - val_acc: 0.1000\n",
      "Epoch 35/50\n",
      "30/30 [==============================] - 0s 301us/step - loss: 1.8249 - acc: 0.6667 - val_loss: 2.0089 - val_acc: 0.1000\n",
      "Epoch 36/50\n",
      "30/30 [==============================] - 0s 284us/step - loss: 1.7990 - acc: 0.8000 - val_loss: 1.9992 - val_acc: 0.1000\n",
      "Epoch 37/50\n",
      "30/30 [==============================] - 0s 368us/step - loss: 1.7924 - acc: 0.7333 - val_loss: 1.9934 - val_acc: 0.1000\n",
      "Epoch 38/50\n",
      "30/30 [==============================] - 0s 184us/step - loss: 1.7718 - acc: 0.7667 - val_loss: 1.9852 - val_acc: 0.2000\n",
      "Epoch 39/50\n",
      "30/30 [==============================] - 0s 384us/step - loss: 1.7713 - acc: 0.8000 - val_loss: 1.9790 - val_acc: 0.2000\n",
      "Epoch 40/50\n",
      "30/30 [==============================] - 0s 251us/step - loss: 1.7621 - acc: 0.7000 - val_loss: 1.9582 - val_acc: 0.3000\n",
      "Epoch 41/50\n",
      "30/30 [==============================] - 0s 351us/step - loss: 1.7496 - acc: 0.8000 - val_loss: 1.9616 - val_acc: 0.2000\n",
      "Epoch 42/50\n",
      "30/30 [==============================] - 0s 384us/step - loss: 1.7194 - acc: 0.7333 - val_loss: 1.9747 - val_acc: 0.1000\n",
      "Epoch 43/50\n",
      "30/30 [==============================] - 0s 217us/step - loss: 1.7069 - acc: 0.8333 - val_loss: 1.9588 - val_acc: 0.1000\n",
      "Epoch 44/50\n",
      "30/30 [==============================] - 0s 384us/step - loss: 1.7015 - acc: 0.8667 - val_loss: 1.9724 - val_acc: 0.1000\n",
      "Epoch 45/50\n",
      "30/30 [==============================] - 0s 318us/step - loss: 1.6794 - acc: 0.8667 - val_loss: 1.9637 - val_acc: 0.1000\n",
      "Epoch 46/50\n",
      "30/30 [==============================] - 0s 184us/step - loss: 1.7099 - acc: 0.8000 - val_loss: 1.9589 - val_acc: 0.1000\n",
      "Epoch 47/50\n",
      "30/30 [==============================] - 0s 301us/step - loss: 1.6978 - acc: 0.8000 - val_loss: 1.9499 - val_acc: 0.3000\n",
      "Epoch 48/50\n",
      "30/30 [==============================] - 0s 267us/step - loss: 1.6493 - acc: 0.8000 - val_loss: 1.9436 - val_acc: 0.2000\n",
      "Epoch 49/50\n",
      "30/30 [==============================] - 0s 251us/step - loss: 1.6285 - acc: 0.9667 - val_loss: 1.9336 - val_acc: 0.2000\n",
      "Epoch 50/50\n",
      "30/30 [==============================] - 0s 250us/step - loss: 1.6339 - acc: 0.9333 - val_loss: 1.9304 - val_acc: 0.4000\n"
     ]
    }
   ],
   "source": [
    "hist = model.fit(x_train, y_train, epochs=50, batch_size=10, validation_data=(x_test,y_test), shuffle=True)"
   ]
  },
  {
   "cell_type": "code",
   "execution_count": 116,
   "metadata": {},
   "outputs": [
    {
     "data": {
      "image/png": "[encoded data removed]",
      "text/plain": [
       "<matplotlib.figure.Figure at 0x22645e550b8>"
      ]
     },
     "metadata": {},
     "output_type": "display_data"
    },
    {
     "data": {
      "image/png": "[encoded data removed]",
      "text/plain": [
       "<matplotlib.figure.Figure at 0x22645f88588>"
      ]
     },
     "metadata": {},
     "output_type": "display_data"
    }
   ],
   "source": [
    "acc = hist.history['acc']\n",
    "val_acc = hist.history['val_acc']\n",
    "loss = hist.history['loss']\n",
    "val_loss = hist.history['val_loss']\n",
    "epochs = range(1, len(acc) + 1)\n",
    "\n",
    "import matplotlib.pyplot as plt\n",
    "\n",
    "plt.plot(epochs, acc, 'bo', label='Training acc')\n",
    "plt.plot(epochs, val_acc, 'b', label='Validation acc')\n",
    "plt.title('Training and validation accuracy')\n",
    "plt.legend()\n",
    "\n",
    "plt.figure()\n",
    "plt.plot(epochs, loss, 'bo', label='Training loss')\n",
    "plt.plot(epochs, val_loss, 'b', label='Validation loss')\n",
    "plt.title('Training and validation loss')\n",
    "plt.legend()\n",
    "\n",
    "plt.show()"
   ]
  },
  {
   "cell_type": "markdown",
   "metadata": {
    "collapsed": true
   },
   "source": [
    "Validation accuracy is bad because training dataset was so small. Also lighting conditions were different in train and test pictures. Would need much more data to be able to successfully predict these digits."
   ]
  },
  {
   "cell_type": "code",
   "execution_count": null,
   "metadata": {
    "collapsed": true
   },
   "outputs": [],
   "source": []
  }
 ],
 "metadata": {
  "kernelspec": {
   "display_name": "Python 3",
   "language": "python",
   "name": "python3"
  },
  "language_info": {
   "codemirror_mode": {
    "name": "ipython",
    "version": 3
   },
   "file_extension": ".py",
   "mimetype": "text/x-python",
   "name": "python",
   "nbconvert_exporter": "python",
   "pygments_lexer": "ipython3",
   "version": "3.6.3"
  }
 },
 "nbformat": 4,
 "nbformat_minor": 2
}
